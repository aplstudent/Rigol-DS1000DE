{
 "cells": [
  {
   "cell_type": "markdown",
   "metadata": {},
   "source": [
    "# Using Rigol Class to control oscilloscope"
   ]
  },
  {
   "cell_type": "code",
   "execution_count": 2,
   "metadata": {
    "collapsed": false
   },
   "outputs": [
    {
     "name": "stdout",
     "output_type": "stream",
     "text": [
      "1: Rigol Technologies\u0000\u0000\u0000\u0000\u0000\u0000\u0000\u0000\u0000 - DS1000 SERIES \u0000\u0000\u0000\u0000\u0000\u0000\u0000\u0000\u0000\u0000\u0000\u0000\u0000\u0000\u0000\u0000\u0000\u0000\n",
      "Enter the number of the device you want to connect to: 1\n",
      "Asking *IDN? returns: Rigol Technologies,DS1102E,DS1EB142004074,00.03.01.00.00\n"
     ]
    }
   ],
   "source": [
    "from __future__ import division\n",
    "import matplotlib.pyplot as plt\n",
    "import numpy as np\n",
    "import rigol\n",
    "# initialize and set backend to usbtmc\n",
    "r = rigol.Rigol(\"usbtmc\")"
   ]
  },
  {
   "cell_type": "markdown",
   "metadata": {},
   "source": [
    "### Query the waveform intensity"
   ]
  },
  {
   "cell_type": "markdown",
   "metadata": {},
   "source": [
    "##### Let's take a look at some of the methods in the Rigol class"
   ]
  },
  {
   "cell_type": "code",
   "execution_count": 2,
   "metadata": {
    "collapsed": false,
    "scrolled": true
   },
   "outputs": [
    {
     "name": "stdout",
     "output_type": "stream",
     "text": [
      "Help on instance of Rigol in module rigol:\n",
      "\n",
      "class Rigol\n",
      " |  Methods defined here:\n",
      " |  \n",
      " |  __init__(self, backend, idProduct=None, idVendor=None)\n",
      " |  \n",
      " |  acquireAverages(self, count)\n",
      " |      The commands set the average numbers in Average mode. <count>\n",
      " |      could be and integer of 2 times the power of N within 2 and 256.\n",
      " |  \n",
      " |  acquireMemDepth(self, depth)\n",
      " |      The commands set and query the memory depth of the oscilloscope. <depth>\n",
      " |      could be LONG (long memory) or NORMal (normal memory)\n",
      " |  \n",
      " |  acquireMode(self, mode)\n",
      " |      The commands set the current acquire mode of the oscilloscope.\n",
      " |      <mode> could be RTIM (Real time Sampling) or ETIM (Equivalent Sampling).\n",
      " |  \n",
      " |  acquireType(self, typ)\n",
      " |      The commands set the current acquire type of the oscilloscope.\n",
      " |      <type> could be NORM, AVER or PEAK.\n",
      " |  \n",
      " |  askAcquireAverages(self)\n",
      " |      The query returns 2, 4, 8, 16, 32, 64, 128 or 256.\n",
      " |  \n",
      " |  askAcquireMemDepth(self)\n",
      " |      The query returns LONG or NORMAL.\n",
      " |  \n",
      " |  askAcquireMode(self)\n",
      " |      Query acquire mode for oscilloscope.\n",
      " |      The query returns REAL_TIME or EQUAL_TIME.\n",
      " |  \n",
      " |  askAcquireSamplingRate(self, channel)\n",
      " |      The command queries the current sampling rate of the analog channel or digital\n",
      " |      channel (only for DS1000D series).\n",
      " |  \n",
      " |  askAcquireType(self)\n",
      " |      Query acquire type of oscilloscope.\n",
      " |      The query returns NORMAL, AVERAGE or PEAKDETECT\n",
      " |  \n",
      " |  askChannelBwlimit(self, channel)\n",
      " |      The query returns ON or OFF.\n",
      " |  \n",
      " |  askChannelCoupling(self, channel)\n",
      " |      The query returns AC, DC or GND.\n",
      " |  \n",
      " |  askChannelDisplay(self, channel)\n",
      " |      The query returns ON or OFF.\n",
      " |  \n",
      " |  askChannelFilter(self, channel)\n",
      " |      The query returns ON or OFF.\n",
      " |  \n",
      " |  askChannelInvert(self, channel)\n",
      " |      The query returns ON or OFF.\n",
      " |  \n",
      " |  askChannelMemoryDepth(self, channel)\n",
      " |      The command queries the memory depth of the specified channel. <n> could\n",
      " |      be 1 or 2.\n",
      " |      In long memory, up to 1Mpts could be stored in single channel and 512kpts in\n",
      " |      dual channels;\n",
      " |      In common memory, up to 16kpts could be stored in single channel and 8kpts in\n",
      " |      dual channels.\n",
      " |  \n",
      " |  askChannelOffset(self, channel)\n",
      " |      The query returns the setting value of <offset>.\n",
      " |  \n",
      " |  askChannelProbe(self, channel)\n",
      " |      The query returns the setting value of <attn>.\n",
      " |  \n",
      " |  askChannelScale(self, channel)\n",
      " |      query what the scale is for channel <channel>\n",
      " |  \n",
      " |  askChannelVernier(self, channel)\n",
      " |      The query returns Coarse or Fine.\n",
      " |  \n",
      " |  askDisplayBrightness(self)\n",
      " |      query the brightness of the grid\n",
      " |      returns a string from 0 to 32\n",
      " |  \n",
      " |  askDisplayGrid(self)\n",
      " |      The query returns FULL, HALF or NONE.\n",
      " |  \n",
      " |  askDisplayIntensity(self)\n",
      " |      Returns waveform brightness from 0 to 32\n",
      " |  \n",
      " |  askDisplayMnuDisplay(self)\n",
      " |      The query returns 1s, 2s, 5s, 10s, 20s or Infinite.\n",
      " |  \n",
      " |  askDisplayMnuStatus(self)\n",
      " |      The query returns ON or OFF.\n",
      " |  \n",
      " |  askDisplayPersist(self)\n",
      " |      The query returns ON or OFF.\n",
      " |  \n",
      " |  askDisplayType(self)\n",
      " |      The query returns VECTORS or DOTS.\n",
      " |  \n",
      " |  askKeyLock(self)\n",
      " |      The query returns ENABLE or DISABLE.\n",
      " |  \n",
      " |  askTeSensitivity(self)\n",
      " |      The query returns the setting value <count> in div.\n",
      " |  \n",
      " |  askTeSlope(self)\n",
      " |      The query returns POSITIVE or NEGATIVE.\n",
      " |  \n",
      " |  askTimebaseFormat(self)\n",
      " |      The query returns X-Y, Y-T or SCANNING.\n",
      " |  \n",
      " |  askTimebaseMode(self)\n",
      " |      The query returns MAIN or DELAYED.\n",
      " |  \n",
      " |  askTimebaseOffset(self, delayed=False)\n",
      " |      The query returns the setting value of the <offset> in s.\n",
      " |  \n",
      " |  askTimebaseScale(self, delayed=False)\n",
      " |      The query returns the setting value of <scale_val> in s.\n",
      " |  \n",
      " |  askTpMode(self)\n",
      " |      The query returns +GREATER THAN, +LESS THAN, +EQUAL, -GREATER THAN,\n",
      " |      -LESS THAN or -EQUAL.\n",
      " |  \n",
      " |  askTpSensitivity(self)\n",
      " |      The query returns the setting value of <count> in div.\n",
      " |  \n",
      " |  askTpWidth(self)\n",
      " |      The query returns the setting value of the <wid> in s.\n",
      " |  \n",
      " |  askTriggerCoupling(self, mode)\n",
      " |      The query returns DC, AC, HF or LF.\n",
      " |  \n",
      " |  askTriggerHoldoff(self)\n",
      " |      The query returns the setting value of <count> in s.\n",
      " |  \n",
      " |  askTriggerLevel(self, mode)\n",
      " |      The query returns the setting value of <level> in V.\n",
      " |  \n",
      " |  askTriggerMode(self)\n",
      " |      queries trigger mode\n",
      " |  \n",
      " |  askTriggerSource(self, mode)\n",
      " |      query what trigger source is being used.\n",
      " |      mode - can be any of [\"EDGE\", \"PULS\", \"VIDEO\", \"SLOP\", \"PATT\", \"DUR\", \"ALT\"]\n",
      " |  \n",
      " |  askTriggerStatus(self)\n",
      " |      The command queries the operating status of the oscilloscope. The status could\n",
      " |      be RUN, STOP, T`D, WAIT or AUTO.\n",
      " |  \n",
      " |  askTriggerSweep(self, mode)\n",
      " |      The query returns AUTO, NORMAL or SINGLE.\n",
      " |  \n",
      " |  askTsLevelA(self)\n",
      " |      The query returns the setting value of level in V.\n",
      " |  \n",
      " |  askTsLevelB(self)\n",
      " |      The query returns the setting value of level in V.\n",
      " |      Note: Level A (upper boundary) can not be less than the maximum of Level B\n",
      " |      (lower boundary).\n",
      " |  \n",
      " |  askTsMode(self)\n",
      " |      The query returns +GREATER THAN, +LESS THAN, +EQUAL, -GREATER THAN,\n",
      " |      -LESS THAN OR -EQUAL.\n",
      " |  \n",
      " |  askTsSensitivity(self)\n",
      " |      The query returns the setting value of <count> in div.\n",
      " |  \n",
      " |  askTsTime(self)\n",
      " |      The query returns the setting value of <count> in s.\n",
      " |  \n",
      " |  askTsWindow(self)\n",
      " |      The query returns P_WIN_A, P_WIN_B, P_WIN_AB, N_WIN_A, N_WIN_B or\n",
      " |      N_WIN_AB.\n",
      " |  \n",
      " |  askTvLine(self)\n",
      " |  \n",
      " |  askTvMode(self)\n",
      " |      The query returns ODD FIELD, EVEN FIELD, LINE or ALL LINES.\n",
      " |  \n",
      " |  askTvPolarity(self)\n",
      " |      The query returns POSITIVE or NEGATIVE.\n",
      " |  \n",
      " |  askTvSensitivity(self)\n",
      " |      The query returns the setting value of <count> in div.\n",
      " |  \n",
      " |  askTvStandard(self)\n",
      " |      The query returns NTSC or PAL/SECAM.\n",
      " |  \n",
      " |  askWaveformData(self, source)\n",
      " |      returns 1024 data for <source>.  Raw Data.\n",
      " |      run through numpy.frombuffer(data, \"B\") to get point data\n",
      " |      First 10 bytes are apparently a header, so we can skip those.\n",
      " |  \n",
      " |  askWaveformPointsMode(self)\n",
      " |      The query returns NORMal, MAXimum or RAW.\n",
      " |  \n",
      " |  auto(self)\n",
      " |  \n",
      " |  channelBwlimit(self, channel, on=True)\n",
      " |      The commands set and query the On/Off state of bandwidth limit. <n> could be\n",
      " |      1 or 2.\n",
      " |  \n",
      " |  channelCoupling(self, channel, coupling)\n",
      " |      The commands set and query the coupling mode of channel. DC indicates both\n",
      " |      the AC and DC components passed from input signal; AC indicates the blocked\n",
      " |      DC components; GND indicates to cut off the input of signal; <n> could be 1 or\n",
      " |      2.\n",
      " |  \n",
      " |  channelDisplay(self, channel, on=True)\n",
      " |      channel - either 1 or 2\n",
      " |      on - boolean value for turning the display on or off for the given channel.\n",
      " |  \n",
      " |  channelFilter(self, channel, on=True)\n",
      " |      The commands set and query the On/Off state of the filter. <n> could be 1 or 2.\n",
      " |  \n",
      " |  channelInvert(self, channel, on=True)\n",
      " |      The commands set and query the On/Off state of the waveform inverted. <n>\n",
      " |      could be 1 or 2.\n",
      " |  \n",
      " |  channelOffset(self, channel, offset)\n",
      " |      The commands set and query the vertical offset. <n> could be 1 or 2.\n",
      " |      When Scale≥250mV, the range of <offset>is -40V~+40V;\n",
      " |      When Scale<250mV, the range of <offset>is -2V~+2V.\n",
      " |  \n",
      " |  channelProbe(self, channel, attn)\n",
      " |      The commands set and query the attenuation factor of the probe. <n> could be\n",
      " |      1 or 2; <attn> could be 1, 5, 10, 50, 100, 500 or 1000.\n",
      " |  \n",
      " |  channelScale(self, channel, v)\n",
      " |      channel - Which channel to scale.\n",
      " |      v - voltage scale\n",
      " |      The commands set and query the vertical scale of waveform magnified by the\n",
      " |      oscilloscope. <n> could be 1 or 2.\n",
      " |      When the Probe is set to 1X, the range of <range> is 2mV ~ 10V;\n",
      " |      When the Probe is set to 5X, the range of <range> is 10mV ~50V;\n",
      " |      When the Probe is set to 10X, the range of <range> is 20mV ~ 100V;\n",
      " |      When the Probe is set to 50X, the range of <range> is 100mV ~ 500V;\n",
      " |      When the Probe is set to 100X, the range of <range> is 200mV ~ 1000V;\n",
      " |      When the Probe is set to 500X, the range of <range> is 1V ~5000V;\n",
      " |      When the Probe is set to 1000X, the range of <range> is 2V~ 10000V.\n",
      " |  \n",
      " |  channelVernier(self, channel, on=True)\n",
      " |      The commands set and query the adjusting mode of scale. ON denotes Fine,\n",
      " |      OFF denotes Coarse; <n> could be 1 or 2.\n",
      " |  \n",
      " |  convertVoltages(self, data, source)\n",
      " |      data - numpy array of unconverted voltage values.\n",
      " |  \n",
      " |  displayBrightness(self, level)\n",
      " |      Changes the brightness level of the grid.\n",
      " |      level - Brightness level from 0 to 32\n",
      " |  \n",
      " |  displayClear(self)\n",
      " |      The command clears out of date waveforms on the screen during waveform\n",
      " |      persist.\n",
      " |  \n",
      " |  displayGrid(self, grid)\n",
      " |      The commands set and query the state of the screen grid. <grid> could be FULL\n",
      " |      (open the background grid and coordinates), HALF (turn off the background grid)\n",
      " |      or NONE (turn off the background grid and coordinates).\n",
      " |  \n",
      " |  displayIntensity(self, level)\n",
      " |      level - intensity level from 0 to 32\n",
      " |  \n",
      " |  displayMnuDisplay(self, t)\n",
      " |      The commands set and query the time for hiding menus automatically. <time>\n",
      " |      could be 1s, 2s, 5s, 10s, 20s or Infinite.\n",
      " |  \n",
      " |  displayMnuStatus(self, disp=True)\n",
      " |      The commands set and query the state of the operation menu.\n",
      " |      disp can take boolean values True or False, to either display\n",
      " |          menu status or not.\n",
      " |  \n",
      " |  displayPersist(self, persist=True)\n",
      " |      The commands set and query the state of the waveform persist. “ON” denotes\n",
      " |      the record points hold until disable the presist, “OFF” denotes the record point\n",
      " |      varies in high refresh rate.\n",
      " |      persist can take on boolean values True or False.\n",
      " |  \n",
      " |  displayType(self, typ)\n",
      " |      The commands set the display type between sampling points. <type>\n",
      " |      could be VECT (vector display) or DOTS (point display).\n",
      " |  \n",
      " |  getWaveform(self, source)\n",
      " |      The data that is extracted from the oscilloscope needs to be inverted,\n",
      " |          multiplied by a constant and shifted by some voltage offset to get the\n",
      " |          true values.\n",
      " |      A custom method for retrieving the corrected voltage values out of the\n",
      " |          oscilloscope.\n",
      " |  \n",
      " |  hardcopy(self)\n",
      " |      Apparently saves a bitmap of the screen somewhere, but I have no idea where.\n",
      " |  \n",
      " |  identify(self)\n",
      " |  \n",
      " |  keyLock(self, enable=True)\n",
      " |      This command is used to enable/disable the buttons function on the front panel\n",
      " |      (except for “Force”).\n",
      " |  \n",
      " |  measureVpp(self, channel)\n",
      " |      channel is either 1 or 2\n",
      " |      returns peak to peak voltage in Volts.\n",
      " |  \n",
      " |  reset(self)\n",
      " |  \n",
      " |  run(self)\n",
      " |  \n",
      " |  stop(self)\n",
      " |      Stops data acquisition\n",
      " |  \n",
      " |  teSensitivity(self, count)\n",
      " |      The commands set and query the sensitive of edge trigger. The range of\n",
      " |      <count> could be 0.1div~1div.\n",
      " |  \n",
      " |  teSlope(self, positive=True)\n",
      " |      The commands set and query the type of edge trigger. The type could be\n",
      " |      POSitive (Rising edge) or NEGative (Failing edge).\n",
      " |  \n",
      " |  timebaseFormat(self, format)\n",
      " |      The commands set and query the horizontal timebase. <value> could be XY, YT\n",
      " |      or SCANning.\n",
      " |  \n",
      " |  timebaseMode(self, mode)\n",
      " |      The commands set and query the scan mode of horizontal timebase. <mode>\n",
      " |      could be MAIN (main timebase) or DELayed (delayed scan).\n",
      " |  \n",
      " |  timebaseOffset(self, offset, delayed=False)\n",
      " |      The commands set and query the offset of the MAIN or DELayed timebase (that\n",
      " |      is offset of the waveform position relative to the trigger midpoint.). Thereinto,\n",
      " |      In NORMAL mode, the range of <scale_val> is 1s ~ end of the memory;\n",
      " |      In STOP mode, the range of <scale_val> is -500s ~ +500s;\n",
      " |      In SCAN mode, the range of <scale_val> is -6*Scale ~ +6*Scale; (Note: Scale\n",
      " |      indicates the current horizontal scale, the unit is s/div.)\n",
      " |      In MAIN state, the item [:DELayed] should be omitted.\n",
      " |  \n",
      " |  timebaseScale(self, scale, delayed=False)\n",
      " |      The commands set and query the horizontal scale for MAIN or DELayed\n",
      " |      timebase, the unit is s/div (seconds/grid), thereinto:\n",
      " |      In YT mode, the range of <scale_val> is 2ns - 50s;\n",
      " |      In ROLL mode, the range of <scale_val> is 500ms - 50s;\n",
      " |      In MAIN state, the item [:DELayed] should be omitted.\n",
      " |  \n",
      " |  tpMode(self, mode)\n",
      " |      The commands set and query the pulse condition. <mode> could be\n",
      " |      +GREaterthan (positive pulse greater than), +LESSthan (positive pulse less\n",
      " |      than), +EQUal (positive pulse equals to), -GREaterthan (negative pulse greater\n",
      " |      than), -LESSthan (negative pulse less than) or –EQUal (negative pulse equals\n",
      " |      to).\n",
      " |  \n",
      " |  tpSensitivity(self, count)\n",
      " |      The commands set and query the sensitive of pulse trigger. The range of\n",
      " |      <count> could be 0.1div~1div.\n",
      " |  \n",
      " |  tpWidth(self, width)\n",
      " |      The commands set and query the pulse width. The range of <wid> is 20ns ~\n",
      " |      10s.\n",
      " |  \n",
      " |  trigger50(self)\n",
      " |      The command sets the trigger level to the vertical midpoint of amplitude.\n",
      " |  \n",
      " |  triggerCoupling(self, mode, coupling)\n",
      " |      The commands set and query the coupling type. Thereinto,\n",
      " |      DC: Allow all signals pass.\n",
      " |      AC: Block DC signals and attenuate the signals lower than 10Hz.\n",
      " |      HF: Reject high frequency signals (Higher than 150KHz).\n",
      " |      LF: Reject DC signals and attenuate low frequency signals (Lower than 8KHz).\n",
      " |      <mode> could be :EDGE, :PULSe or :SLOPe.\n",
      " |  \n",
      " |  triggerForce(self)\n",
      " |      The command forces the oscilloscope to trigger signal, which is usually used in\n",
      " |      “Normal” and “Single” mode.\n",
      " |  \n",
      " |  triggerHoldoff(self, count)\n",
      " |      The commands set and query the trigger holfoff time. The range of <count> is\n",
      " |      <count>: 500ns~1.5s.\n",
      " |  \n",
      " |  triggerLevel(self, mode, level)\n",
      " |      The commands set and query the trigger level. <mode> could be :EDGE, :PULSe\n",
      " |      or :VIDEO; the range of <level> is: -6*Scale~+6*Scale, Scale indicates the current vertical\n",
      " |      scale, the unit is V/div.\n",
      " |  \n",
      " |  triggerMode(self, mode)\n",
      " |      sets trigger mode\n",
      " |      see valid_modes variable for valid mode values.\n",
      " |  \n",
      " |  triggerSource(self, mode, source)\n",
      " |      sets trigger mode and source\n",
      " |  \n",
      " |  triggerSweep(self, mode, sweep)\n",
      " |      The commands set and query the trigger type. <mode>could be :EDGE,\n",
      " |      :PULSe, :SLOPe, :PATTern or :DURation.\n",
      " |      sweep can take values [AUTO, NORM, SING]\n",
      " |  \n",
      " |  tsLevelA(self, value)\n",
      " |      The commands set and query the upper boundary “Level A” of trigger level. The\n",
      " |      range of <value> is LevelB~+ 6*Scale; Scale indicates the current vertical level,\n",
      " |      the unit is V/div.\n",
      " |  \n",
      " |  tsLevelB(self, value)\n",
      " |      The commands set and query the lower boundary “LEVel B” of trigger level. The\n",
      " |      range of <value> is -6*Scale~LevelA; Scale indicates the current vertical level,\n",
      " |      the unit is V/div.\n",
      " |  \n",
      " |  tsMode(self, mode)\n",
      " |      The commands set and query the slope condition. <mode> could be\n",
      " |      +GREaterthan (positive slope greater than), +LESSthan (positive slope less\n",
      " |      than), + EQUal (positive slope equals to), -GREaterthan (negative slope greater\n",
      " |      than), -LESSthan (negative slope less than) or –EQUal (negative slope equals\n",
      " |      to).\n",
      " |  \n",
      " |  tsSensitivity(self, count)\n",
      " |      The commands set and query the trigger sensitive. The range of <count> is:\n",
      " |      0.1div ~1div.\n",
      " |  \n",
      " |  tsTime(self, count)\n",
      " |      The commands set and query the time setting about slope trigger. The range of\n",
      " |      <count> is 20ns~10s.\n",
      " |  \n",
      " |  tsWindow(self, count)\n",
      " |      The commands set and query the type of trigger level which can be adjusted by\n",
      " |      the level knob on the oscilloscope.\n",
      " |      When the slope condition is +GREaterthan, +LESSthan or + EQUal, <count>\n",
      " |      could be PA (rising edge Level A), PB (rising edge Level B) or PAB (rising edge\n",
      " |      Level AB);\n",
      " |      When the slope condition is -GREaterthan, -LESSthan or –EQUal, <count> could\n",
      " |      be NA (falling edge Level A), NB (falling edge LevelB) or NAB (falling edge\n",
      " |      LevelAB).\n",
      " |  \n",
      " |  tvLine(self, value)\n",
      " |      The commands set and query the number of specified line of synchronous. In\n",
      " |      NTSC standard, the range of <value> is 1~525; in PAL/SECAM standard, the\n",
      " |      range of <value> is 1~625.\n",
      " |  \n",
      " |  tvMode(self, mode)\n",
      " |      The commands set and query the synchronous mode of the video trigger.\n",
      " |      <mode> could be ODDfield, EVENfield, LINE or ALLlines.\n",
      " |  \n",
      " |  tvPolarity(self, pos_polarity=True)\n",
      " |      The commands set and query the video polarity. The polarity could be POSitive\n",
      " |      or NEGative.\n",
      " |  \n",
      " |  tvSensitivity(self, count)\n",
      " |      The commands set and query the trigger sensitive, the range of <count> is:\n",
      " |      0.1div ~1div.\n",
      " |  \n",
      " |  tvStandard(self, ntsc=True)\n",
      " |      The commands set and query the type of video trigger standard.\n",
      " |  \n",
      " |  waveformPointsMode(self, mode)\n",
      " |      This command sets the mode of waveform points. <points_mode> can be:\n",
      " |      NORMal, MAXimum or RAW.\n",
      " |  \n",
      " |  ----------------------------------------------------------------------\n",
      " |  Data and other attributes defined here:\n",
      " |  \n",
      " |  backends = ['usbtmc']\n",
      "\n"
     ]
    }
   ],
   "source": [
    "help(r)"
   ]
  },
  {
   "cell_type": "markdown",
   "metadata": {},
   "source": [
    "Do note that I'm writing all of these methods so that the oscilloscope can be controlled without looking at the programmers manual at all, but you can always write in your own commands (in case I have not implemented them) by using the Rigol.dev.write() or Rigol.dev.ask() methods."
   ]
  },
  {
   "cell_type": "markdown",
   "metadata": {},
   "source": [
    "### Basic Methods"
   ]
  },
  {
   "cell_type": "code",
   "execution_count": 3,
   "metadata": {
    "collapsed": true
   },
   "outputs": [],
   "source": [
    "r.stop()"
   ]
  },
  {
   "cell_type": "code",
   "execution_count": 2,
   "metadata": {
    "collapsed": true
   },
   "outputs": [],
   "source": [
    "r.auto()"
   ]
  },
  {
   "cell_type": "code",
   "execution_count": 5,
   "metadata": {
    "collapsed": true
   },
   "outputs": [],
   "source": [
    "r.run()"
   ]
  },
  {
   "cell_type": "markdown",
   "metadata": {},
   "source": [
    "### Display Methods"
   ]
  },
  {
   "cell_type": "code",
   "execution_count": 6,
   "metadata": {
    "collapsed": false
   },
   "outputs": [
    {
     "data": {
      "text/plain": [
       "u'32'"
      ]
     },
     "execution_count": 6,
     "metadata": {},
     "output_type": "execute_result"
    }
   ],
   "source": [
    "r.askIntensity()"
   ]
  },
  {
   "cell_type": "markdown",
   "metadata": {},
   "source": [
    "Set intensity to 32."
   ]
  },
  {
   "cell_type": "code",
   "execution_count": 7,
   "metadata": {
    "collapsed": false
   },
   "outputs": [],
   "source": [
    "r.intensity(32)"
   ]
  },
  {
   "cell_type": "markdown",
   "metadata": {},
   "source": [
    "### Trigger Methods"
   ]
  },
  {
   "cell_type": "markdown",
   "metadata": {},
   "source": [
    "Set trigger source for CHAN1 to EDGE"
   ]
  },
  {
   "cell_type": "code",
   "execution_count": 8,
   "metadata": {
    "collapsed": false
   },
   "outputs": [],
   "source": [
    "r.triggerSource(\"EDGE\", \"CHAN1\")"
   ]
  },
  {
   "cell_type": "markdown",
   "metadata": {},
   "source": [
    "Query trigger source for edge"
   ]
  },
  {
   "cell_type": "code",
   "execution_count": 9,
   "metadata": {
    "collapsed": false
   },
   "outputs": [
    {
     "data": {
      "text/plain": [
       "u'CH1'"
      ]
     },
     "execution_count": 9,
     "metadata": {},
     "output_type": "execute_result"
    }
   ],
   "source": [
    "r.askTriggerSource(\"EDGE\")"
   ]
  },
  {
   "cell_type": "markdown",
   "metadata": {},
   "source": [
    "### Channel Methods"
   ]
  },
  {
   "cell_type": "markdown",
   "metadata": {},
   "source": [
    "Turn on channel 2 and then turn it off"
   ]
  },
  {
   "cell_type": "code",
   "execution_count": 3,
   "metadata": {
    "collapsed": false
   },
   "outputs": [],
   "source": [
    "r.channelDisplay(2)"
   ]
  },
  {
   "cell_type": "code",
   "execution_count": 4,
   "metadata": {
    "collapsed": true
   },
   "outputs": [],
   "source": [
    "r.channelDisplay(2, on=False)"
   ]
  },
  {
   "cell_type": "markdown",
   "metadata": {},
   "source": [
    "Turn on channel 1"
   ]
  },
  {
   "cell_type": "code",
   "execution_count": 5,
   "metadata": {
    "collapsed": true
   },
   "outputs": [],
   "source": [
    "r.channelDisplay(1)"
   ]
  },
  {
   "cell_type": "markdown",
   "metadata": {},
   "source": [
    "Set channel scale"
   ]
  },
  {
   "cell_type": "code",
   "execution_count": 28,
   "metadata": {
    "collapsed": false
   },
   "outputs": [],
   "source": [
    "r.channelScale(1, 1)"
   ]
  },
  {
   "cell_type": "code",
   "execution_count": 29,
   "metadata": {
    "collapsed": false
   },
   "outputs": [
    {
     "data": {
      "text/plain": [
       "u'1.000e+00'"
      ]
     },
     "execution_count": 29,
     "metadata": {},
     "output_type": "execute_result"
    }
   ],
   "source": [
    "r.askChannelScale(1)"
   ]
  },
  {
   "cell_type": "markdown",
   "metadata": {},
   "source": [
    "You can also access the volt1_scale attribute (Updated everytime you send the channelScale() method)"
   ]
  },
  {
   "cell_type": "code",
   "execution_count": 30,
   "metadata": {
    "collapsed": false
   },
   "outputs": [
    {
     "data": {
      "text/plain": [
       "u'1.000e+00'"
      ]
     },
     "execution_count": 30,
     "metadata": {},
     "output_type": "execute_result"
    }
   ],
   "source": [
    "r.volt1_scale"
   ]
  },
  {
   "cell_type": "markdown",
   "metadata": {},
   "source": [
    "### Measure Methods"
   ]
  },
  {
   "cell_type": "markdown",
   "metadata": {},
   "source": [
    "Measure peak to peak voltage"
   ]
  },
  {
   "cell_type": "code",
   "execution_count": 7,
   "metadata": {
    "collapsed": false
   },
   "outputs": [
    {
     "data": {
      "text/plain": [
       "u'6.24e+00'"
      ]
     },
     "execution_count": 7,
     "metadata": {},
     "output_type": "execute_result"
    }
   ],
   "source": [
    "r.measureVpp(1)"
   ]
  },
  {
   "cell_type": "markdown",
   "metadata": {},
   "source": [
    "### Key Methods"
   ]
  },
  {
   "cell_type": "markdown",
   "metadata": {},
   "source": [
    "Unlock the buttons on the oscilloscope\n",
    "Note:  The next time you send a usb command or query, the keys will relock"
   ]
  },
  {
   "cell_type": "code",
   "execution_count": 16,
   "metadata": {
    "collapsed": true
   },
   "outputs": [],
   "source": [
    "r.keyLock(enable=False)"
   ]
  },
  {
   "cell_type": "markdown",
   "metadata": {},
   "source": [
    "### TimeBase Methods"
   ]
  },
  {
   "cell_type": "markdown",
   "metadata": {},
   "source": [
    "Set a time scale in sec/division"
   ]
  },
  {
   "cell_type": "code",
   "execution_count": 25,
   "metadata": {
    "collapsed": true
   },
   "outputs": [],
   "source": [
    "r.timebaseScale(5e-3)"
   ]
  },
  {
   "cell_type": "markdown",
   "metadata": {},
   "source": [
    "Ask for the time scale in sec/division"
   ]
  },
  {
   "cell_type": "code",
   "execution_count": 26,
   "metadata": {
    "collapsed": false
   },
   "outputs": [
    {
     "data": {
      "text/plain": [
       "u'5.000e-03'"
      ]
     },
     "execution_count": 26,
     "metadata": {},
     "output_type": "execute_result"
    }
   ],
   "source": [
    "r.askTimebaseScale()"
   ]
  },
  {
   "cell_type": "markdown",
   "metadata": {},
   "source": [
    "There is also an attribute you can look up without querying the oscilloscope.  (Potentially faster)\n",
    "This attribute will update every time you send the timebaseScale() method to the oscilloscope."
   ]
  },
  {
   "cell_type": "code",
   "execution_count": 27,
   "metadata": {
    "collapsed": false
   },
   "outputs": [
    {
     "data": {
      "text/plain": [
       "u'5.000e-03'"
      ]
     },
     "execution_count": 27,
     "metadata": {},
     "output_type": "execute_result"
    }
   ],
   "source": [
    "r.time_scale"
   ]
  },
  {
   "cell_type": "markdown",
   "metadata": {},
   "source": [
    "### Waveform Methods"
   ]
  },
  {
   "cell_type": "markdown",
   "metadata": {},
   "source": [
    "plot something"
   ]
  },
  {
   "cell_type": "code",
   "execution_count": 3,
   "metadata": {
    "collapsed": true
   },
   "outputs": [],
   "source": [
    "% matplotlib inline"
   ]
  },
  {
   "cell_type": "code",
   "execution_count": 42,
   "metadata": {
    "collapsed": false
   },
   "outputs": [],
   "source": [
    "r.run()"
   ]
  },
  {
   "cell_type": "code",
   "execution_count": 4,
   "metadata": {
    "collapsed": false
   },
   "outputs": [],
   "source": [
    "r.waveformPointsMode(\"NORM\")"
   ]
  },
  {
   "cell_type": "code",
   "execution_count": 12,
   "metadata": {
    "collapsed": true
   },
   "outputs": [],
   "source": [
    "x = r.getTimebase()"
   ]
  },
  {
   "cell_type": "code",
   "execution_count": 13,
   "metadata": {
    "collapsed": false
   },
   "outputs": [],
   "source": [
    "y = r.getWaveform(\"CHAN1\")"
   ]
  },
  {
   "cell_type": "code",
   "execution_count": 59,
   "metadata": {
    "collapsed": false
   },
   "outputs": [
    {
     "data": {
      "text/plain": [
       "<matplotlib.text.Text at 0x7fab9c1edf90>"
      ]
     },
     "execution_count": 59,
     "metadata": {},
     "output_type": "execute_result"
    },
    {
     "data": {
      "image/png": "[encoded data removed]",
      "text/plain": [
       "<matplotlib.figure.Figure at 0x7fab9c204210>"
      ]
     },
     "metadata": {},
     "output_type": "display_data"
    }
   ],
   "source": [
    "plt.plot(x, y)\n",
    "plt.xlabel(\"TIME (SECONDS)\")\n",
    "plt.ylabel(\"VOLTAGE (V)\")\n",
    "plt.title(\"Oscilloscope Reading\")"
   ]
  }
 ],
 "metadata": {
  "kernelspec": {
   "display_name": "Python 2",
   "language": "python",
   "name": "python2"
  },
  "language_info": {
   "codemirror_mode": {
    "name": "ipython",
    "version": 2
   },
   "file_extension": ".py",
   "mimetype": "text/x-python",
   "name": "python",
   "nbconvert_exporter": "python",
   "pygments_lexer": "ipython2",
   "version": "2.7.10"
  }
 },
 "nbformat": 4,
 "nbformat_minor": 0
}
